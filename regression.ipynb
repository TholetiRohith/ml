{
  "nbformat": 4,
  "nbformat_minor": 2,
  "metadata": {
    "colab": {
      "name": "Assignment_2.ipynb",
      "provenance": [],
      "collapsed_sections": []
    },
    "kernelspec": {
      "name": "python3",
      "display_name": "Python 3.9.6 64-bit"
    },
    "language_info": {
      "name": "python",
      "version": "3.9.6",
      "mimetype": "text/x-python",
      "codemirror_mode": {
        "name": "ipython",
        "version": 3
      },
      "pygments_lexer": "ipython3",
      "nbconvert_exporter": "python",
      "file_extension": ".py"
    },
    "interpreter": {
      "hash": "8673653ebc601b11073e94ed4be6f423d4024bf9ecebde4097d7ca7bae7297c5"
    }
  },
  "cells": [
    {
      "cell_type": "markdown",
      "source": [
        "## <font color=red> You should not import any new libraries. Your code should run with python=3.x</font>\n",
        "## <font color=red> Please don't rename this .ipynb file.</font><br>\n",
        "- Your solutions will be auto-graded. Hence we request you to follow the instructions.\n",
        "- Modify the code only between \n",
        "```\n",
        "## TODO\n",
        "## END TODO\n",
        "```\n",
        "- In addition to above changes, you can play with arguments to the functions for generating plots\n",
        "- We will run the auto grading scripts with private test data"
      ],
      "metadata": {
        "id": "GW18MExyoByK"
      }
    },
    {
      "cell_type": "code",
      "execution_count": 857,
      "source": [
        "import math\r\n",
        "import numpy as np\r\n",
        "import matplotlib.pyplot as plt\r\n",
        "import pandas as pd\r\n",
        "from sklearn import preprocessing\r\n",
        "from scipy import linalg"
      ],
      "outputs": [],
      "metadata": {
        "id": "aCSR1aBfmVPu"
      }
    },
    {
      "cell_type": "markdown",
      "source": [
        "## Please make sure that your code works with loading data from relative path only\r\n",
        "\r\n",
        "i.e. ```pd.read_csv('./data/multi_var_lasso.csv')``` should not throw an error when we run the auto-grading scripts"
      ],
      "metadata": {
        "id": "g7zKGgQgoPnA"
      }
    },
    {
      "cell_type": "code",
      "execution_count": 858,
      "source": [
        "data_multi = pd.read_csv('./data/multi_var_lasso.csv')\r\n",
        "cols = [f\"x_gt_{idx}\" for idx in range(1, 6)]\r\n",
        "X_multi = np.array(data_multi[cols])\r\n",
        "Y_multi = np.array(data_multi['y_gt'])"
      ],
      "outputs": [],
      "metadata": {
        "id": "xU2CdrwCoQQv"
      }
    },
    {
      "cell_type": "code",
      "execution_count": 859,
      "source": [
        "data_multi_class = pd.read_csv('./data/3_class_perceptron.csv')\r\n",
        "cols = [f\"x_gt_{idx}\" for idx in range(1, 3)]\r\n",
        "X_multi_class = np.array(data_multi_class[cols])\r\n",
        "Y_multi_class = np.array(data_multi_class['y_gt'])"
      ],
      "outputs": [],
      "metadata": {
        "id": "j_YZg7Z7g3fl"
      }
    },
    {
      "cell_type": "code",
      "execution_count": 860,
      "source": [
        "def mse_multi_var(X, Y, w, b):\r\n",
        "    '''\r\n",
        "    Compute mean squared error between predictions and true y values\r\n",
        "\r\n",
        "    Args:\r\n",
        "    X - numpy array of shape (n_samples, 1)\r\n",
        "    Y - numpy array of shape (n_samples, 1)\r\n",
        "    w - a float\r\n",
        "    b - a float\r\n",
        "    '''\r\n",
        "\r\n",
        "    ## TODO\r\n",
        "    X1=np.matmul(X,w)\r\n",
        "    Y1=Y-X1\r\n",
        "    mse=0\r\n",
        "    i=0\r\n",
        "    for a in Y1:\r\n",
        "        mse=mse+(a-b)*(a-b)\r\n",
        "        i=i+1\r\n",
        "    mse=mse/i\r\n",
        "    ## END TODO\r\n",
        "\r\n",
        "    return mse"
      ],
      "outputs": [],
      "metadata": {
        "id": "0DaZIrqza4oc"
      }
    },
    {
      "cell_type": "code",
      "execution_count": 861,
      "source": [
        "def mse_regularized(X, Y, w, b, lamda):\r\n",
        "    '''\r\n",
        "    Compute mean squared error between predictions and true y values\r\n",
        "\r\n",
        "    Args:\r\n",
        "    X - numpy array of shape (n_samples, 1)\r\n",
        "    Y - numpy array of shape (n_samples, 1)\r\n",
        "    w - a float\r\n",
        "    b - a float\r\n",
        "    '''\r\n",
        "    ## TODO\r\n",
        "    X1=np.matmul(X,w)\r\n",
        "    Y1=Y-X1\r\n",
        "    mse=0\r\n",
        "    i=0\r\n",
        "    for a in Y1:\r\n",
        "        mse=mse+(a-b)*(a-b)\r\n",
        "        i=i+1\r\n",
        "    mse=mse/i\r\n",
        "    w2=0\r\n",
        "    for a in w:\r\n",
        "        w2=w2+a*a\r\n",
        "    mse=mse+lamda*w2\r\n",
        "    ## END TODO\r\n",
        "\r\n",
        "    return mse"
      ],
      "outputs": [],
      "metadata": {
        "id": "B6AFlQQWoxSh"
      }
    },
    {
      "cell_type": "markdown",
      "source": [
        "## Plot Graphs\n",
        "\n",
        "- This function plots the ground truth curve in <font color=green>green</font> and the predicted function in <font color=red>red</font>"
      ],
      "metadata": {
        "id": "UyT4gundogZ5"
      }
    },
    {
      "cell_type": "code",
      "execution_count": 862,
      "source": [
        "def plot_curves(w, b, x, y):\r\n",
        "  x_gt = np.linspace(-1, 2, 50)\r\n",
        "  y_gt = 1 - 3 * x_gt - 2 * x_gt ** 2 + 2.5 * x_gt ** 3\r\n",
        "  # print(x_gt.shape,y_gt.shape)\r\n",
        "  if len(w) == 1:\r\n",
        "    y_fit = w * x_gt + b\r\n",
        "  elif len(w) == 5:\r\n",
        "    x_fit = x_gt\r\n",
        "    for pow in range(2, 4):\r\n",
        "      x_fit = np.vstack([x_fit, np.power(x_gt, pow)])\r\n",
        "\r\n",
        "    x_fit = np.vstack([x_fit, np.power(x_gt, 2)])\r\n",
        "    x_fit = np.vstack([x_fit, np.power(x_gt, 1)])\r\n",
        "    \r\n",
        "    y_fit = np.dot(w, x_fit) + b\r\n",
        "  else:\r\n",
        "    assert False, 'Pass a valid w'\r\n",
        "  plt.plot(x_gt, y_gt, color=\"green\", label='1 - 3 * x - 2 * x ** 2 + 2.5 * x ** 3')\r\n",
        "  plt.plot(x_gt, y_fit, color='red', label=\"Fitted Function y = w.Tx + b\")\r\n",
        "  if len(x.shape) == 1:\r\n",
        "    x_plot = np.vstack([x, np.ones(len(x))]).T\r\n",
        "    # print (x_plot.shape, y.shape)\r\n",
        "  else:\r\n",
        "    x_plot = x\r\n",
        "  plt.scatter(x_plot[:,0],y)\r\n",
        "  plt.legend()\r\n",
        "  plt.title(\"Ground Truth Function\")\r\n",
        "  plt.show()"
      ],
      "outputs": [],
      "metadata": {
        "id": "weGoGCzJodzM"
      }
    },
    {
      "cell_type": "code",
      "execution_count": 863,
      "source": [
        "def split_data(X, Y, train_ratio=0.6):\r\n",
        "    '''\r\n",
        "    Split data into train and validation sets\r\n",
        "    The first floor(train_ratio*n_sample) samples form the train set\r\n",
        "    and the remaining the test set\r\n",
        "\r\n",
        "    Args:\r\n",
        "    X - numpy array of shape (n_samples, n_features)\r\n",
        "    Y - numpy array of shape (n_samples, 1)\r\n",
        "    train_ratio - fraction of samples to be used as training data\r\n",
        "\r\n",
        "    Returns:\r\n",
        "    X_train, Y_train, X_val, Y_val\r\n",
        "    '''\r\n",
        "    ## TODO\r\n",
        "    A=np.arange(X.shape[0])\r\n",
        "    np.random.shuffle(A)\r\n",
        "    X_train=X[A[0:math.floor(X.shape[0]*train_ratio)]]\r\n",
        "    Y_train=Y[A[0:math.floor(Y.shape[0]*train_ratio)]]\r\n",
        "    X_val=X[A[math.floor(X.shape[0]*train_ratio):X.shape[0]]]\r\n",
        "    Y_val=Y[A[math.floor(X.shape[0]*train_ratio):X.shape[0]]]\r\n",
        "    ## END TODO\r\n",
        "\r\n",
        "    return X_train, Y_train, X_val, Y_val"
      ],
      "outputs": [],
      "metadata": {
        "id": "-oAg-WHfo_j-"
      }
    },
    {
      "cell_type": "markdown",
      "source": [
        "# Lasso Regression"
      ],
      "metadata": {
        "id": "jF5le-PSpHyI"
      }
    },
    {
      "cell_type": "code",
      "execution_count": 864,
      "source": [
        "X_train, Y_train, X_val, Y_val = split_data(X_multi, Y_multi, train_ratio=0.6)\r\n",
        "\r\n",
        "def ista(X_train, Y_train, X_val, Y_val, epochs=10000, lr=1e-2, lamda = 0.5):\r\n",
        "    '''\r\n",
        "    Perform multi variable lasso regression using ISTA\r\n",
        "\r\n",
        "    Args:\r\n",
        "    X_train - numpy array of shape (n_samples_train, 5)\r\n",
        "    Y_train - numpy array of shape (n_samples_train, 1)\r\n",
        "    X_val - numpy array of shape (n_samples_val, 5)\r\n",
        "    Y_val - numpy array of shape (n_samples_val, 1)\r\n",
        "    epochs - number of gradient descent steps\r\n",
        "    lr - learnig rate\r\n",
        "    lamda - regularization_weight\r\n",
        "    '''\r\n",
        "\r\n",
        "    w = np.zeros(X_train.shape[1]) #np.random.randn(X_train.shape[1])\r\n",
        "    b = 0\r\n",
        "    ## TODO\r\n",
        "    w1 = np.zeros(X_train.shape[1]+1)\r\n",
        "    X1 = np.append(X_train,np.ones((X_train.shape[0],1)),axis=1)\r\n",
        "    for c in range(epochs):\r\n",
        "        Y1=np.matmul(X1,w1)\r\n",
        "        A = (2/X_train.shape[0])*np.matmul(np.transpose(X1),(Y_train-Y1))\r\n",
        "        w1=w1+lr*A\r\n",
        "        for d in range(w1.shape[0]):\r\n",
        "            if(w1[d]>lamda*lr):\r\n",
        "                w1[d]=w1[d]-lamda*lr\r\n",
        "            elif(w1[d]<-1*lamda*lr):\r\n",
        "                w1[d]=w1[d]+lamda*lr\r\n",
        "            else:\r\n",
        "                w1[d]=0\r\n",
        "    w=w1[:X_train.shape[1]]\r\n",
        "    b=w1[X_train.shape[1]]\r\n",
        "    ## END TODO\r\n",
        "    \r\n",
        "    mse_train = mse_regularized(X_train, Y_train, w, b, lamda)\r\n",
        "    mse_val = mse_regularized(X_val, Y_val, w, b, lamda)\r\n",
        "    print(f'Validation loss if {mse_val}')\r\n",
        "    print(f'Training Loss loss if {mse_train}')\r\n",
        "    print(w.shape,b,X_train.shape,Y_train.shape)\r\n",
        "    plot_curves(list(w), b, X_train, Y_train)\r\n",
        "    return w, b\r\n",
        "\r\n",
        "ista(X_train, Y_train, X_val, Y_val)"
      ],
      "outputs": [
        {
          "output_type": "stream",
          "name": "stdout",
          "text": [
            "Validation loss if 2.0826001410973345\n",
            "Training Loss loss if 1.5921182332276649\n",
            "(5,) 0.0 (30, 5) (30,)\n"
          ]
        },
        {
          "output_type": "display_data",
          "data": {
            "image/png": "[encoded data removed]",
            "text/plain": [
              "<Figure size 432x288 with 1 Axes>"
            ]
          },
          "metadata": {
            "needs_background": "light"
          }
        },
        {
          "output_type": "execute_result",
          "data": {
            "text/plain": [
              "(array([-0.58196649,  0.        ,  0.88801881,  0.        , -0.58196649]), 0.0)"
            ]
          },
          "metadata": {},
          "execution_count": 864
        }
      ],
      "metadata": {
        "id": "KXHA6LqRpJOL"
      }
    },
    {
      "cell_type": "markdown",
      "source": [
        "# Ridge Regression"
      ],
      "metadata": {
        "id": "tquhPbDFVo5J"
      }
    },
    {
      "cell_type": "code",
      "execution_count": 865,
      "source": [
        "def multivar_reg_closedform(X_train, Y_train, X_val, Y_val, lamda=0.5):\r\n",
        "\r\n",
        "    '''\r\n",
        "    Perform L2 regularized multi variable least squares regression using \r\n",
        "    closed form update rules\r\n",
        "\r\n",
        "    Args:\r\n",
        "    X_train - numpy array of shape (n_samples_train, 5)\r\n",
        "    Y_train - numpy array of shape (n_samples_train, 1)\r\n",
        "    X_val - numpy array of shape (n_samples_val, 5)\r\n",
        "    Y_val - numpy array of shape (n_samples_val, 1)\r\n",
        "    lambda - regularization weight\r\n",
        "    '''\r\n",
        "\r\n",
        "    w = np.zeros(X_train.shape[1])\r\n",
        "    b = 0\r\n",
        "\r\n",
        "    ## TODO     #use closed-form solution from previous assignment\r\n",
        "    X1=np.append(X_train,np.ones((X_train.shape[0],1)),axis=1)\r\n",
        "    X1t=np.transpose(X1)\r\n",
        "    h=(lamda*(X_train.shape[0]))*(np.identity(X_train.shape[1]+1))\r\n",
        "    A=linalg.inv(np.matmul(X1t,X1)+h)\r\n",
        "    B=np.matmul(A,X1t)\r\n",
        "    ans=np.matmul(B,Y_train)\r\n",
        "    w=ans[:X_train.shape[1]]\r\n",
        "    b=ans[X_train.shape[1]]\r\n",
        "    ## END TODO\r\n",
        "\r\n",
        "    mse_train = mse_multi_var(X_train, Y_train, w, b)\r\n",
        "    mse_val = mse_multi_var(X_val, Y_val, w, b)\r\n",
        "    print(f'Validation loss if {mse_val}')\r\n",
        "    print(f'Training Loss loss if {mse_train}')\r\n",
        "    plot_curves(list(w), b, X_train, Y_train)\r\n",
        "    \r\n",
        "    return w, b\r\n",
        "\r\n",
        "multivar_reg_closedform(X_train, Y_train, X_val, Y_val)"
      ],
      "outputs": [
        {
          "output_type": "stream",
          "name": "stdout",
          "text": [
            "Validation loss if 1.7283945468641082\n",
            "Training Loss loss if 1.0224870589830137\n"
          ]
        },
        {
          "output_type": "display_data",
          "data": {
            "image/png": "[encoded data removed]",
            "text/plain": [
              "<Figure size 432x288 with 1 Axes>"
            ]
          },
          "metadata": {
            "needs_background": "light"
          }
        },
        {
          "output_type": "execute_result",
          "data": {
            "text/plain": [
              "(array([-0.49109242,  0.11511922,  0.66465012,  0.11511922, -0.49109242]),\n",
              " 0.10114937204570228)"
            ]
          },
          "metadata": {},
          "execution_count": 865
        }
      ],
      "metadata": {
        "id": "mBD7ZLePVhFz"
      }
    },
    {
      "cell_type": "markdown",
      "source": [
        "# Bias-Variance Tradeoff"
      ],
      "metadata": {
        "id": "HafXtfE0Zx6D"
      }
    },
    {
      "cell_type": "code",
      "execution_count": 866,
      "source": [
        "#\r\n",
        "def ridge(X_train, Y_train, X_test,epochs=20, lr=2e-1, lamda = 1):\r\n",
        "\r\n",
        "    w = 0.6\r\n",
        "    b = 2\r\n",
        "    n = float(len(X_train)) # Number of elements in X\r\n",
        "\r\n",
        "    # Performing Gradient Descent \r\n",
        "    \r\n",
        "    ## TODO\r\n",
        "    w1 = np.array([w,b])\r\n",
        "    w1=w1.reshape([-1,1])\r\n",
        "    X1 = np.append(X_train,np.ones((X_train.shape[0],1)),axis=1)\r\n",
        "    for c in range(epochs):\r\n",
        "        Y1=np.matmul(X1,w1)\r\n",
        "        Y1=Y1.reshape([-1,1])\r\n",
        "        A = (2/X_train.shape[0])*np.matmul(np.transpose(X1),(Y_train-Y1))\r\n",
        "        w1=w1+lr*A-2*lamda*lr*w1\r\n",
        "    w1=w1.reshape(-1)\r\n",
        "    w=w1[0]\r\n",
        "    b=w1[1]\r\n",
        "    ### END TODO\r\n",
        "\r\n",
        "    Y_pred = w*X_test+b\r\n",
        "    return Y_pred\r\n",
        "\r\n",
        "def lasso(X_train, Y_train, X_test,epochs=20, lr=2e-1, lamda = 1):\r\n",
        "    w = 0.6\r\n",
        "    b = 2\r\n",
        "    n = float(len(X_train)) # Number of elements in X\r\n",
        "\r\n",
        "    # Performing Gradient Descent \r\n",
        "    ##TODO\r\n",
        "    w1 = np.array([w,b])\r\n",
        "    w1=w1.reshape([-1,1])\r\n",
        "    X1 = np.append(X_train,np.ones((X_train.shape[0],1)),axis=1)\r\n",
        "    for c in range(epochs):\r\n",
        "        Y1=np.matmul(X1,w1)\r\n",
        "        Y1=Y1.reshape([-1,1])\r\n",
        "        A = (2/X_train.shape[0])*np.matmul(np.transpose(X1),(Y_train-Y1))\r\n",
        "        w1=w1+lr*A\r\n",
        "        for d in range(w1.shape[0]):\r\n",
        "            if(w1[d]>lamda*lr):\r\n",
        "                w1[d]=w1[d]-lamda*lr\r\n",
        "            elif(w1[d]<-1*lamda*lr):\r\n",
        "                w1[d]=w1[d]+lamda*lr\r\n",
        "            else:\r\n",
        "                w1[d]=0\r\n",
        "    w1=w1.reshape(-1)\r\n",
        "    w=w1[0]\r\n",
        "    b=w1[1]\r\n",
        "    ##END TODO\r\n",
        "\r\n",
        "    Y_pred = w*X_test+b\r\n",
        "    return Y_pred\r\n",
        "\r\n",
        "def ols(X_train, Y_train, X_test,epochs=20, lr=2e-1):\r\n",
        "\r\n",
        "    w = 0.6\r\n",
        "    b = 2\r\n",
        "    n = float(len(X_train)) # Number of elements in X\r\n",
        "\r\n",
        "    # Performing Gradient Descent \r\n",
        "    ## TODO\r\n",
        "    w1 = np.array([w,b])\r\n",
        "    w1=w1.reshape([-1,1])\r\n",
        "    X1 = np.append(X_train,np.ones((X_train.shape[0],1)),axis=1)\r\n",
        "    for c in range(epochs):\r\n",
        "        Y1=np.matmul(X1,w1)\r\n",
        "        Y1=Y1.reshape([-1,1])\r\n",
        "        A = (2/X_train.shape[0])*np.matmul(np.transpose(X1),(Y_train-Y1))\r\n",
        "        w1=w1+lr*A\r\n",
        "    w1=w1.reshape(-1)\r\n",
        "    w=w1[0]\r\n",
        "    b=w1[1]\r\n",
        "    ### END TODO\r\n",
        "\r\n",
        "    Y_pred = w*X_test+b\r\n",
        "    return Y_pred"
      ],
      "outputs": [],
      "metadata": {
        "id": "aBatCgQgeZi8"
      }
    },
    {
      "cell_type": "code",
      "execution_count": 867,
      "source": [
        "# We fit multiple lines onto our linear model defined by y = c + mx + error.\r\n",
        "num_lines = 10\r\n",
        "#size of Dataset, len(Dataset) for 1 line\r\n",
        "n = 500\r\n",
        "#weights (slope/intercept)\r\n",
        "c = 3\r\n",
        "m = 5"
      ],
      "outputs": [],
      "metadata": {
        "id": "78u8LgPFZxZ0"
      }
    },
    {
      "cell_type": "code",
      "execution_count": 868,
      "source": [
        "def gen_data():\r\n",
        "    '''\r\n",
        "    We sample n, X from uniform distribution and error from zero mean normal distribtion, we find Y using mx+c+e\r\n",
        "    We do the above for num_lines number of time, to fit different lines for each models(lasso, ols, ridge), doing so will\r\n",
        "    be helpfull in calculating Expected value of learned esitmator of all n*num_lines dataset\r\n",
        "\r\n",
        "    DO NOT CHANGE this function.\r\n",
        "    '''\r\n",
        "\r\n",
        "    w0 = c\r\n",
        "    w1 = m\r\n",
        "    data = np.zeros(shape=(num_lines,n,2))\r\n",
        "    for i in range(num_lines):\r\n",
        "        x = np.random.uniform(-2, 2, size=(n, 1))\r\n",
        "        e = np.random.normal(0, 8, size=(n, 1))\r\n",
        "        y = w0 + w1 * x + e\r\n",
        "        x_y = np.concatenate((x, y), axis=1)\r\n",
        "        data[i,:,:] = x_y\r\n",
        "    return np.array(data)"
      ],
      "outputs": [],
      "metadata": {
        "id": "mjwhG142Z6pL"
      }
    },
    {
      "cell_type": "code",
      "execution_count": 869,
      "source": [
        "def gen_bais_variance(Y_preds, Y_true):\r\n",
        "    ## TODO\r\n",
        "    a=np.(Y_preds, axis=0)\r\n",
        "    bias=a-Y_true\r\n",
        "    bias=bias.reshape([1,-1])\r\n",
        "    variance=np.var(Y_preds, axis=0)\r\n",
        "    variance=variance.reshape([1,-1])\r\n",
        "    ## END TODO\r\n",
        "    return bias, variance"
      ],
      "outputs": [],
      "metadata": {
        "id": "KXpyZZMLZ-wk"
      }
    },
    {
      "cell_type": "code",
      "execution_count": 870,
      "source": [
        "def make_prediction(data, X_test, lambda_=0.5):\r\n",
        "\r\n",
        "  y_hat = np.zeros(shape=(num_lines, 3))#store prediction of all model\r\n",
        "\r\n",
        "  for i in range(num_lines):\r\n",
        "      X = data[i, :, 0].reshape(n ,1)\r\n",
        "      y = data[i, :, 1].reshape(n, 1)\r\n",
        "\r\n",
        "      y_hat[i, 0] = ols(X, y, X_test)\r\n",
        "\r\n",
        "      y_hat[i, 1] = ridge(X, y, X_test, lamda = lambda_)\r\n",
        "\r\n",
        "      y_hat[i, 2] = lasso(X, y, X_test, lamda = lambda_)\r\n",
        "\r\n",
        "  return y_hat"
      ],
      "outputs": [],
      "metadata": {
        "id": "hMzoObAiaBTX"
      }
    },
    {
      "cell_type": "code",
      "execution_count": 871,
      "source": [
        "def plot_figure(l,b,v):\r\n",
        "\r\n",
        "  plt.plot(l, b[:, 0], label=\"OLS\")\r\n",
        "  plt.plot(l, b[:, 1], label=\"Ridge\")\r\n",
        "  plt.plot(l, b[:, 2], label=\"Lasso\")\r\n",
        "  plt.xlabel(\"Regularization coefficient\")\r\n",
        "  plt.ylabel(\"Bias\")\r\n",
        "  plt.title(\"Bias vs Lambda\")\r\n",
        "  plt.legend(loc=\"upper left\")\r\n",
        "  plt.show()\r\n",
        "\r\n",
        "  plt.plot(l, v[:, 0], label=\"OLS\")\r\n",
        "  plt.plot(l, v[:, 1], label=\"Ridge\")\r\n",
        "  plt.plot(l, v[:, 2], label=\"Lasso\")\r\n",
        "  plt.xlabel(\"Regularization coefficient\")\r\n",
        "  plt.ylabel(\"Variance\")\r\n",
        "  plt.title(\"Variance vs Lambda\")\r\n",
        "  plt.legend(loc=\"lower left\")\r\n",
        "  plt.show()\r\n",
        "\r\n"
      ],
      "outputs": [],
      "metadata": {
        "id": "DinGJiTgaENE"
      }
    },
    {
      "cell_type": "code",
      "execution_count": 872,
      "source": [
        "def driver():\r\n",
        "  all_lambda = np.linspace(0.0001, 1, 100)\r\n",
        "  all_bias = np.zeros(shape=(len(all_lambda), 3))\r\n",
        "  all_variance = np.zeros(shape=(len(all_lambda), 3))\r\n",
        "  dataset = gen_data()\r\n",
        "  X_test = np.array([4]).reshape((1,1))\r\n",
        "  for i, l in enumerate(all_lambda):\r\n",
        "      Y_hat = make_prediction(dataset, X_test, lambda_=l)\r\n",
        "      ##TODO #calculate true mean Y_true\r\n",
        "      Y_true=m*X_test+c\r\n",
        "      ##END TODO\r\n",
        "      all_bias[i, :], all_variance[i, :] = gen_bais_variance(Y_hat, Y_true) \r\n",
        "  plot_figure(all_lambda, all_bias, all_variance)\r\n",
        "\r\n",
        "driver()"
      ],
      "outputs": [
        {
          "output_type": "display_data",
          "data": {
            "image/png": "[encoded data removed]",
            "text/plain": [
              "<Figure size 432x288 with 1 Axes>"
            ]
          },
          "metadata": {
            "needs_background": "light"
          }
        },
        {
          "output_type": "display_data",
          "data": {
            "image/png": "[encoded data removed]",
            "text/plain": [
              "<Figure size 432x288 with 1 Axes>"
            ]
          },
          "metadata": {
            "needs_background": "light"
          }
        }
      ],
      "metadata": {
        "id": "nJD2hCXxaIAA"
      }
    },
    {
      "cell_type": "markdown",
      "source": [
        "# Perceptron"
      ],
      "metadata": {
        "id": "bo75okrxU6D0"
      }
    },
    {
      "cell_type": "code",
      "execution_count": 873,
      "source": [
        "X_train_multiclass, Y_train_multiclass, X_val_multiclass, Y_val_multiclass = split_data(X_multi_class, Y_multi_class, train_ratio=0.6)\r\n",
        "\r\n",
        "def perceptron_algo(X_train_multiclass, Y_train_multiclass, X_val_multiclass, Y_val_multiclass,n_class=3, epochs=30):\r\n",
        "  W=np.zeros((n_class, len(X_train_multiclass[0]) ))\r\n",
        "  ## TODO\r\n",
        "  for c in range(epochs):\r\n",
        "    for d in range(X_train_multiclass.shape[0]):\r\n",
        "      A = np.matmul(W,np.transpose(X_train_multiclass[d]))\r\n",
        "      k=A[0]\r\n",
        "      j=0\r\n",
        "      for a in range(n_class):\r\n",
        "        if(A[a]>k):\r\n",
        "          k=A[a]\r\n",
        "          j=a\r\n",
        "      if(Y_multi_class[d]!=j):\r\n",
        "        W[Y_train_multiclass[d]]= W[Y_train_multiclass[d]]+X_train_multiclass[d]\r\n",
        "        W[j]= W[j]-X_train_multiclass[d]\r\n",
        "  ##END TODO\r\n",
        "\r\n",
        "  Y_pred=list()\r\n",
        "  for i in range(len(Y_val_multiclass)):\r\n",
        "      y_pred=np.argmax([np.dot(W[0],X_val_multiclass[i]),np.dot(W[1],X_val_multiclass[i]),np.dot(W[2],X_val_multiclass[i])])\r\n",
        "      Y_pred.append(y_pred)\r\n",
        "\r\n",
        "  from sklearn.metrics import classification_report\r\n",
        "  target_names = ['class 0', 'class 1', 'class 2']\r\n",
        "  print(classification_report(Y_val_multiclass, Y_pred, target_names=target_names))\r\n",
        "  return W\r\n",
        "\r\n",
        "perceptron_algo(X_train_multiclass, Y_train_multiclass, X_val_multiclass, Y_val_multiclass)\r\n"
      ],
      "outputs": [
        {
          "output_type": "stream",
          "name": "stdout",
          "text": [
            "              precision    recall  f1-score   support\n",
            "\n",
            "     class 0       1.00      1.00      1.00        13\n",
            "     class 1       1.00      1.00      1.00        14\n",
            "     class 2       1.00      1.00      1.00        13\n",
            "\n",
            "    accuracy                           1.00        40\n",
            "   macro avg       1.00      1.00      1.00        40\n",
            "weighted avg       1.00      1.00      1.00        40\n",
            "\n"
          ]
        },
        {
          "output_type": "execute_result",
          "data": {
            "text/plain": [
              "array([[  7.38527419,   0.49277354],\n",
              "       [-13.02075174,  13.40609507],\n",
              "       [  5.63547756, -13.89886861]])"
            ]
          },
          "metadata": {},
          "execution_count": 873
        }
      ],
      "metadata": {
        "id": "QaL7Zo3nU8Vm"
      }
    }
  ]
}